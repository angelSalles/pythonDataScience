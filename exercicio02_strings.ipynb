{
  "nbformat": 4,
  "nbformat_minor": 0,
  "metadata": {
    "colab": {
      "name": "exercicio02_strings.ipynb",
      "provenance": [],
      "authorship_tag": "ABX9TyMy2zyzVMWVy0h24hnKL0U5"
    },
    "kernelspec": {
      "name": "python3",
      "display_name": "Python 3"
    },
    "language_info": {
      "name": "python"
    }
  },
  "cells": [
    {
      "cell_type": "markdown",
      "source": [
        "1 - Crie uma variável chamada frase com o seguinte texto: frase = 'ninguém educa ninguém, ninguém educa a si mesmo, os homens educam-se entre si, mediatizados pelo mundo'\n",
        "\n",
        "Crie um programa em Python para:\n",
        "\n",
        "a) Mostrar o tamanho dessa frase. b) Mostre quantas vezes a letra 'n' está aparece na frase. c) Coloque o Texto todo em maiúsculo."
      ],
      "metadata": {
        "id": "lCFIzuVnl8H3"
      }
    },
    {
      "cell_type": "code",
      "source": [
        "frase = 'ninguém educa ninguém, ninguém educa a si mesmo, os homens educam-se entre si, mediatizados pelo mundo'"
      ],
      "metadata": {
        "id": "0R5yVNJzl_eO"
      },
      "execution_count": 15,
      "outputs": []
    },
    {
      "cell_type": "code",
      "source": [
        "tamanho = len(frase)\n",
        "print(tamanho)"
      ],
      "metadata": {
        "colab": {
          "base_uri": "https://localhost:8080/"
        },
        "id": "tQSvkLN4mJMY",
        "outputId": "e53af879-5b5a-434a-bff7-51a6a2198d19"
      },
      "execution_count": 16,
      "outputs": [
        {
          "output_type": "stream",
          "name": "stdout",
          "text": [
            "102\n"
          ]
        }
      ]
    },
    {
      "cell_type": "code",
      "source": [
        "countn = frase.count('n')\n",
        "print(countn)"
      ],
      "metadata": {
        "colab": {
          "base_uri": "https://localhost:8080/"
        },
        "id": "KaGSfeB_mMUW",
        "outputId": "8fc35a5f-b095-464e-e21c-fd03494a1b0f"
      },
      "execution_count": 17,
      "outputs": [
        {
          "output_type": "stream",
          "name": "stdout",
          "text": [
            "9\n"
          ]
        }
      ]
    },
    {
      "cell_type": "code",
      "source": [
        "fraseUpper = frase.upper()\n",
        "print(fraseUpper)"
      ],
      "metadata": {
        "colab": {
          "base_uri": "https://localhost:8080/"
        },
        "id": "qRH1VHISmQms",
        "outputId": "3b40d202-d359-4025-ad3d-4973f0085f55"
      },
      "execution_count": 18,
      "outputs": [
        {
          "output_type": "stream",
          "name": "stdout",
          "text": [
            "NINGUÉM EDUCA NINGUÉM, NINGUÉM EDUCA A SI MESMO, OS HOMENS EDUCAM-SE ENTRE SI, MEDIATIZADOS PELO MUNDO\n"
          ]
        }
      ]
    }
  ]
}