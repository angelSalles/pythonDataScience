{
  "nbformat": 4,
  "nbformat_minor": 0,
  "metadata": {
    "colab": {
      "name": "exercicio01_operacoes.ipynb",
      "provenance": [],
      "authorship_tag": "ABX9TyNJkZI/dia9E0GInixTjdHY"
    },
    "kernelspec": {
      "name": "python3",
      "display_name": "Python 3"
    },
    "language_info": {
      "name": "python"
    }
  },
  "cells": [
    {
      "cell_type": "code",
      "execution_count": 14,
      "metadata": {
        "id": "Di7R-40BdET0",
        "colab": {
          "base_uri": "https://localhost:8080/"
        },
        "outputId": "46deb7d0-9960-4bc1-9ec3-17e20121d136"
      },
      "outputs": [
        {
          "output_type": "stream",
          "name": "stdout",
          "text": [
            "Informe o primeiro valor\n",
            "Digite seu numero aqui 5\n",
            "Operador +\n",
            "Digite seu numero aqui 2\n",
            "= 7\n"
          ]
        }
      ],
      "source": [
        "print(\"Informe o primeiro valor\")\n",
        "num = int(input(\"Digite seu numero aqui \"))\n",
        "operador = input(\"Operador \")\n",
        "num2 = int(input(\"Digite seu numero aqui \"))\n",
        "print(\"= \", end=\"\")\n",
        "if operador == \"+\":\n",
        "  print(num+num2)\n",
        "elif operador == \"-\":\n",
        "  print(num-num2)\n",
        "elif operador == \"*\":\n",
        "  print(num*num2)\n",
        "elif operador == \"x\":\n",
        "  print(num*num2)\n",
        "elif operador == \"/\":\n",
        "  print(num/num2)"
      ]
    }
  ]
}