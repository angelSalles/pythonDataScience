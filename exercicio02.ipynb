{
  "nbformat": 4,
  "nbformat_minor": 0,
  "metadata": {
    "colab": {
      "name": "exercicio02.ipynb",
      "provenance": [],
      "authorship_tag": "ABX9TyNr+v+y3g7IeisLVTTaBQX6",
      "include_colab_link": true
    },
    "kernelspec": {
      "name": "python3",
      "display_name": "Python 3"
    },
    "language_info": {
      "name": "python"
    }
  },
  "cells": [
    {
      "cell_type": "markdown",
      "metadata": {
        "id": "view-in-github",
        "colab_type": "text"
      },
      "source": [
        "<a href=\"https://colab.research.google.com/github/angelSalles/pythonDataScience/blob/main/exercicio02.ipynb\" target=\"_parent\"><img src=\"https://colab.research.google.com/assets/colab-badge.svg\" alt=\"Open In Colab\"/></a>"
      ]
    },
    {
      "cell_type": "markdown",
      "source": [
        "1. Crie uma variável chamada frase com o seguinte texto:\n",
        "frase = 'ninguém educa ninguém, ninguém educa a si mesmo, os homens educam-se entre si, mediatizados pelo mundo'\n",
        "\n",
        "\n",
        "Crie um programa em Python para:\n",
        "\n",
        "a) Mostrar o tamanho dessa frase.\n",
        "b) Mostre quantas vezes a letra 'n' está aparece na frase.\n",
        "c) Coloque o Texto todo em maiúsculo."
      ],
      "metadata": {
        "id": "dZZfNm4gji7e"
      }
    },
    {
      "cell_type": "code",
      "execution_count": 9,
      "metadata": {
        "id": "Di7R-40BdET0"
      },
      "outputs": [],
      "source": [
        "frase = 'ninguém educa ninguém, ninguém educa a si mesmo, os homens educam-se entre si, mediatizados pelo mundo'"
      ]
    },
    {
      "cell_type": "code",
      "source": [
        "tamanho = len(frase)\n",
        "print(tamanho)"
      ],
      "metadata": {
        "colab": {
          "base_uri": "https://localhost:8080/"
        },
        "id": "ih_VKLoUj5aZ",
        "outputId": "2494b7b5-7626-476b-fa6b-b262933ced3f"
      },
      "execution_count": 10,
      "outputs": [
        {
          "output_type": "stream",
          "name": "stdout",
          "text": [
            "102\n"
          ]
        }
      ]
    },
    {
      "cell_type": "code",
      "source": [
        "countn = frase.count('n')\n",
        "print(countn)"
      ],
      "metadata": {
        "colab": {
          "base_uri": "https://localhost:8080/"
        },
        "id": "NkjtNBw-j5k7",
        "outputId": "31fb680b-3511-4286-aa1f-66f836882a32"
      },
      "execution_count": 11,
      "outputs": [
        {
          "output_type": "stream",
          "name": "stdout",
          "text": [
            "9\n"
          ]
        }
      ]
    },
    {
      "cell_type": "code",
      "source": [
        "fraseUpper = frase.upper()\n",
        "print(fraseUpper)"
      ],
      "metadata": {
        "colab": {
          "base_uri": "https://localhost:8080/"
        },
        "id": "h4-7upfZkV9a",
        "outputId": "71f6607d-0937-4d0b-d3ea-ec18f6da2bdf"
      },
      "execution_count": 13,
      "outputs": [
        {
          "output_type": "stream",
          "name": "stdout",
          "text": [
            "NINGUÉM EDUCA NINGUÉM, NINGUÉM EDUCA A SI MESMO, OS HOMENS EDUCAM-SE ENTRE SI, MEDIATIZADOS PELO MUNDO\n"
          ]
        }
      ]
    }
  ]
}