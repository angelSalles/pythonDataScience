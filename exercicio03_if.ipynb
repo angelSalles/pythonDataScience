{
  "nbformat": 4,
  "nbformat_minor": 0,
  "metadata": {
    "colab": {
      "name": "exercicio03_if.ipynb",
      "provenance": [],
      "authorship_tag": "ABX9TyN84+K8/vyE1E4H9td3xp7T"
    },
    "kernelspec": {
      "name": "python3",
      "display_name": "Python 3"
    },
    "language_info": {
      "name": "python"
    }
  },
  "cells": [
    {
      "cell_type": "markdown",
      "source": [
        "1. Faça um algoritmo para ler dois números inteiros e informar se estes são iguais ou diferentes.\n",
        "\n",
        "2. Faça um programa que o usuário informe o salário recebido e o total gasto no mês corrente. Deverá ser exibido na tela “Gastos dentro do orçamento” caso o valor gasto não ultrapasse o valor do salário e “Orçamento estourado” se o valor gasto ultrapassar o valor do salário.\n",
        "\n",
        "3. Desenvolva um programa que recebe do usuário, o placar de um jogo de futebol (os gols de cada time) e informa se o resultado foi um empate, se a vitória foi do primeiro time ou do segundo time.\n",
        "\n",
        "\n",
        "\n",
        "\n",
        "4. Uma cooperativa de moto-taxi resolveu comprar pneus diretamente da fábrica, cada um tem custo de R$ 120, os descontos variam de acordo com a quantidade comprada:\n",
        "\n",
        "\n",
        "Menos de 10 pneus         Nenhum desconto\n",
        "10-49 pneus                       5% de desconto\n",
        "50-99 pneus                      10% de desconto\n",
        "100 ou mais                       15% de desconto\n",
        "\n",
        "Crie\n",
        "um algoritmo que peça a quantidade de pneus comprados e calcule o valor final\n",
        "dessa compra."
      ],
      "metadata": {
        "id": "lCFIzuVnl8H3"
      }
    },
    {
      "cell_type": "code",
      "source": [
        "n1 = int(input(\"Escreva o primeiro número aqui \"))\n",
        "n2 = int(input(\"Escreva o segundo número aqui \"))\n",
        "print(\"= \", end=\"\")\n",
        "if n1 == n2:\n",
        "  print(\"São iguais\")\n",
        "else:\n",
        "  print(\"São diferentes\")"
      ],
      "metadata": {
        "colab": {
          "base_uri": "https://localhost:8080/"
        },
        "id": "qRH1VHISmQms",
        "outputId": "70e1da9c-93c0-4a28-cb8f-0fa604ebd37c"
      },
      "execution_count": 4,
      "outputs": [
        {
          "output_type": "stream",
          "name": "stdout",
          "text": [
            "Escreva o primeiro número aqui 10\n",
            "Escreva o segundo número aqui 12\n",
            "= São diferentes\n"
          ]
        }
      ]
    },
    {
      "cell_type": "code",
      "source": [
        "salario = float(input(\"Escreva o seu salario aqui \"))\n",
        "gastos = float(input(\"Escreva o seu total gasto \"))\n",
        "print(\"= \", end=\"\")\n",
        "if salario >= gastos:\n",
        "  print(\"Gastos dentro do orçamento\")\n",
        "else:\n",
        "  print(\"Orçamento estourado\")"
      ],
      "metadata": {
        "colab": {
          "base_uri": "https://localhost:8080/"
        },
        "id": "FmhH7e0aIrbC",
        "outputId": "c9a29409-b912-40c1-9094-3a214fb9fa49"
      },
      "execution_count": 8,
      "outputs": [
        {
          "output_type": "stream",
          "name": "stdout",
          "text": [
            "Escreva o seu salario aqui 10.1\n",
            "Escreva o seu total gasto 10.2\n",
            "= Orçamento estourado\n"
          ]
        }
      ]
    },
    {
      "cell_type": "code",
      "source": [
        "timeA = int(input(\"Escreva o número de gols do time A \"))\n",
        "timeB = int(input(\"Escreva o número de gols do time B \"))\n",
        "if timeA == timeB:\n",
        "  print(\"Empate\")\n",
        "elif timeA > timeB:\n",
        "  print(\"Time A venceu\")\n",
        "else:\n",
        "  print(\"Time B venceu\")"
      ],
      "metadata": {
        "colab": {
          "base_uri": "https://localhost:8080/"
        },
        "id": "IvUuZv9UJeaz",
        "outputId": "d6f357d1-3ec7-4d32-859d-ba772fbe5806"
      },
      "execution_count": 11,
      "outputs": [
        {
          "output_type": "stream",
          "name": "stdout",
          "text": [
            "Escreva o número de gols do time A 1\n",
            "Escreva o número de gols do time B 1\n",
            "Empate\n"
          ]
        }
      ]
    },
    {
      "cell_type": "code",
      "source": [
        "pneus = float(input(\"Digite o número de pneus \"))\n",
        "pneus = pneus * 120\n",
        "if pneus/120 < 10:\n",
        "  print(\"Sem desconto, valor final = \", + pneus)\n",
        "elif pneus/120 >= 10 and pneus/120 <= 49:\n",
        "  print(\"5% de desconto, valor final = \", + (pneus - (pneus * 0.05)))\n",
        "elif pneus/120 >= 50 and pneus/120 <= 99:\n",
        "  print(\"10% de desconto, valor final = \", + (pneus - (pneus * 0.1)))\n",
        "elif pneus/120 >= 100:\n",
        "  print(\"15% de desconto, valor final = \", + (pneus - (pneus * 0.15)))"
      ],
      "metadata": {
        "colab": {
          "base_uri": "https://localhost:8080/"
        },
        "id": "YsqrzWb3KKge",
        "outputId": "0d33ea48-0bb6-42cb-9c95-1292576873e4"
      },
      "execution_count": 22,
      "outputs": [
        {
          "output_type": "stream",
          "name": "stdout",
          "text": [
            "Digite o número de pneus 100\n",
            "15% de desconto, valor final =  10200.0\n"
          ]
        }
      ]
    },
    {
      "cell_type": "markdown",
      "source": [
        "Extra IMC"
      ],
      "metadata": {
        "id": "-xcuQj11NHEG"
      }
    },
    {
      "cell_type": "code",
      "source": [
        "peso = float(input(\"Digite o seu peso \"))\n",
        "altura = float(input(\"Digite o sua altura \"))\n",
        "imc = peso/(altura*altura)\n",
        "if imc < 18.5:\n",
        "  print(\"Abaixo do peso \")\n",
        "elif imc >= 18.5 and imc <= 25:\n",
        "  print(\"Peso normal \")\n",
        "elif imc >= 25 and imc <= 30:\n",
        "  print(\"Acima do peso \")\n",
        "elif imc > 30:\n",
        "  print(\"Obeso \")"
      ],
      "metadata": {
        "colab": {
          "base_uri": "https://localhost:8080/"
        },
        "id": "D9UmpB03NI-Z",
        "outputId": "d70493d3-3728-4916-afb3-71826773b691"
      },
      "execution_count": 24,
      "outputs": [
        {
          "output_type": "stream",
          "name": "stdout",
          "text": [
            "Digite o seu peso 75\n",
            "Digite o sua altura 1.78\n",
            "Peso normal \n"
          ]
        }
      ]
    }
  ]
}