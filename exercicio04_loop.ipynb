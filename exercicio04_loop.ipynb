{
  "nbformat": 4,
  "nbformat_minor": 0,
  "metadata": {
    "colab": {
      "name": "exercicio04_loop.ipynb",
      "provenance": [],
      "authorship_tag": "ABX9TyPcwfaArmAaZLKbmpRh4wp5"
    },
    "kernelspec": {
      "name": "python3",
      "display_name": "Python 3"
    },
    "language_info": {
      "name": "python"
    }
  },
  "cells": [
    {
      "cell_type": "markdown",
      "source": [
        "1. Utilizando o loop While, crie um programa que mostrar na tela os valores ímpares entre 0 e 100.\n",
        "\n",
        "2. Utilizando o loop While, crie um programa que mostrar na tela os valores pares entre 100 e 0. Mostre do maior para o menor.\n",
        "\n",
        "3. Crie uma lista dos peixes que você conhece, em seguida percorra a essa lista usando o loop for, até encontrar um peixe qualquer digitado pelo usuário.\n",
        "\n",
        "4. Crie um programa usando a função range(), para gerar valores 3 a 214, incrementando 5 valores por vez.\n",
        "\n",
        "5. Sabendo que a copa do mundo começou em 1930 e que ela se repete a cada 4 anos, mostre os anos que houve copa. (Faça duas respostas, uma usando while, outra usando o for)"
      ],
      "metadata": {
        "id": "lCFIzuVnl8H3"
      }
    },
    {
      "cell_type": "code",
      "source": [
        "i = 0\n",
        "while i <= 100:\n",
        "  if i%2!=0:\n",
        "    print(i)\n",
        "  i=i+1"
      ],
      "metadata": {
        "colab": {
          "base_uri": "https://localhost:8080/"
        },
        "id": "ex-HxAO8Ks5O",
        "outputId": "8e01c9de-010f-4403-c8d8-eda6e00425ec"
      },
      "execution_count": 3,
      "outputs": [
        {
          "output_type": "stream",
          "name": "stdout",
          "text": [
            "1\n",
            "3\n",
            "5\n",
            "7\n",
            "9\n",
            "11\n",
            "13\n",
            "15\n",
            "17\n",
            "19\n",
            "21\n",
            "23\n",
            "25\n",
            "27\n",
            "29\n",
            "31\n",
            "33\n",
            "35\n",
            "37\n",
            "39\n",
            "41\n",
            "43\n",
            "45\n",
            "47\n",
            "49\n",
            "51\n",
            "53\n",
            "55\n",
            "57\n",
            "59\n",
            "61\n",
            "63\n",
            "65\n",
            "67\n",
            "69\n",
            "71\n",
            "73\n",
            "75\n",
            "77\n",
            "79\n",
            "81\n",
            "83\n",
            "85\n",
            "87\n",
            "89\n",
            "91\n",
            "93\n",
            "95\n",
            "97\n",
            "99\n"
          ]
        }
      ]
    },
    {
      "cell_type": "code",
      "source": [
        "i = 100\n",
        "while i >= 0:\n",
        "  if i%2==0:\n",
        "    print(i)\n",
        "  i=i-1"
      ],
      "metadata": {
        "colab": {
          "base_uri": "https://localhost:8080/"
        },
        "id": "H6B3wYEnLLKM",
        "outputId": "2dc91175-fdcc-41fc-85bd-91f6aa9eb051"
      },
      "execution_count": 5,
      "outputs": [
        {
          "output_type": "stream",
          "name": "stdout",
          "text": [
            "100\n",
            "98\n",
            "96\n",
            "94\n",
            "92\n",
            "90\n",
            "88\n",
            "86\n",
            "84\n",
            "82\n",
            "80\n",
            "78\n",
            "76\n",
            "74\n",
            "72\n",
            "70\n",
            "68\n",
            "66\n",
            "64\n",
            "62\n",
            "60\n",
            "58\n",
            "56\n",
            "54\n",
            "52\n",
            "50\n",
            "48\n",
            "46\n",
            "44\n",
            "42\n",
            "40\n",
            "38\n",
            "36\n",
            "34\n",
            "32\n",
            "30\n",
            "28\n",
            "26\n",
            "24\n",
            "22\n",
            "20\n",
            "18\n",
            "16\n",
            "14\n",
            "12\n",
            "10\n",
            "8\n",
            "6\n",
            "4\n",
            "2\n",
            "0\n"
          ]
        }
      ]
    },
    {
      "cell_type": "code",
      "source": [
        "peixes = [\"piramutaba\", \"piraíba\", \"pirarara\", \"jaú\", \"surubin\", \"matrinxã\", \"tambaqui\", \"pirapitinga\"]\n",
        "busca = input(\"Verifique se eu conheço o peixe de aguá doce que você digitou \")\n",
        "cont = 0\n",
        "for i in peixes:\n",
        "  if busca == i:\n",
        "    print(\"O peixe digitado está presente na minha lista\")\n",
        "    cont = 1\n",
        "    break\n",
        "if(cont!=1):\n",
        "  print(\"Não conheço esse peixe\")"
      ],
      "metadata": {
        "colab": {
          "base_uri": "https://localhost:8080/"
        },
        "id": "DSVe49K3Lh_A",
        "outputId": "166eadff-7b0a-4f79-dba0-7b0255a81c1d"
      },
      "execution_count": 27,
      "outputs": [
        {
          "output_type": "stream",
          "name": "stdout",
          "text": [
            "Verifique se eu conheço o peixe de aguá doce que você digitou ovo\n",
            "Não conheço esse peixe\n"
          ]
        }
      ]
    },
    {
      "cell_type": "code",
      "source": [
        "for i in range(3, 214, 5):\n",
        "  print(i)"
      ],
      "metadata": {
        "colab": {
          "base_uri": "https://localhost:8080/"
        },
        "id": "7AbY-V_sPv6Z",
        "outputId": "7f9bfe9b-fc89-40c3-c357-aa7f041af836"
      },
      "execution_count": 29,
      "outputs": [
        {
          "output_type": "stream",
          "name": "stdout",
          "text": [
            "3\n",
            "8\n",
            "13\n",
            "18\n",
            "23\n",
            "28\n",
            "33\n",
            "38\n",
            "43\n",
            "48\n",
            "53\n",
            "58\n",
            "63\n",
            "68\n",
            "73\n",
            "78\n",
            "83\n",
            "88\n",
            "93\n",
            "98\n",
            "103\n",
            "108\n",
            "113\n",
            "118\n",
            "123\n",
            "128\n",
            "133\n",
            "138\n",
            "143\n",
            "148\n",
            "153\n",
            "158\n",
            "163\n",
            "168\n",
            "173\n",
            "178\n",
            "183\n",
            "188\n",
            "193\n",
            "198\n",
            "203\n",
            "208\n",
            "213\n"
          ]
        }
      ]
    },
    {
      "cell_type": "code",
      "source": [
        "for i in range(1930, 2022, 4):\n",
        "  print(i)"
      ],
      "metadata": {
        "colab": {
          "base_uri": "https://localhost:8080/"
        },
        "id": "68_tCBIAQFUN",
        "outputId": "0e1564da-7a25-4e45-d64f-702adcb8b39b"
      },
      "execution_count": 32,
      "outputs": [
        {
          "output_type": "stream",
          "name": "stdout",
          "text": [
            "1930\n",
            "1934\n",
            "1938\n",
            "1942\n",
            "1946\n",
            "1950\n",
            "1954\n",
            "1958\n",
            "1962\n",
            "1966\n",
            "1970\n",
            "1974\n",
            "1978\n",
            "1982\n",
            "1986\n",
            "1990\n",
            "1994\n",
            "1998\n",
            "2002\n",
            "2006\n",
            "2010\n",
            "2014\n",
            "2018\n"
          ]
        }
      ]
    },
    {
      "cell_type": "code",
      "source": [
        "i=1930\n",
        "while i < 2022:\n",
        "  print(i)\n",
        "  i+=4"
      ],
      "metadata": {
        "colab": {
          "base_uri": "https://localhost:8080/"
        },
        "id": "6Id99sQDQSe3",
        "outputId": "a1e3149f-d292-4644-8660-58d5e9b9b1a3"
      },
      "execution_count": 34,
      "outputs": [
        {
          "output_type": "stream",
          "name": "stdout",
          "text": [
            "1930\n",
            "1934\n",
            "1938\n",
            "1942\n",
            "1946\n",
            "1950\n",
            "1954\n",
            "1958\n",
            "1962\n",
            "1966\n",
            "1970\n",
            "1974\n",
            "1978\n",
            "1982\n",
            "1986\n",
            "1990\n",
            "1994\n",
            "1998\n",
            "2002\n",
            "2006\n",
            "2010\n",
            "2014\n",
            "2018\n"
          ]
        }
      ]
    }
  ]
}